{
 "cells": [
  {
   "cell_type": "markdown",
   "id": "cbbdb30d-ecd5-4bd8-9651-1eb4f4c8d602",
   "metadata": {},
   "source": [
    "# Daily Household Transactions"
   ]
  },
  {
   "cell_type": "markdown",
   "id": "556bc384-a3d2-4f16-b412-a2764c6e117e",
   "metadata": {},
   "source": [
    "#### About Dataset\n",
    "The \"Daily Transactions\" dataset contains information on dummy transactions made by\n",
    "an individual on a daily basis. The dataset includes data on the products that were\n",
    "purchased, the amount spent on each product, the date and time of each transaction,\n",
    "the payment mode of each transaction, and the source of each record\n",
    "(Expense/Income).\n",
    "This dataset can be used to analyze purchasing behavior and money management,\n",
    "forecasting expenses, and optimizing savings and budgeting strategies. The dataset is\n",
    "well-suited for data analysis and machine learning applications,it can be used to train\n",
    "predictive models and make data-driven decisions"
   ]
  },
  {
   "cell_type": "markdown",
   "id": "88ad09f9-e676-4dcd-852e-b0b382380534",
   "metadata": {},
   "source": [
    "### Step 1: Import Libraries and Load Data"
   ]
  },
  {
   "cell_type": "code",
   "execution_count": 1,
   "id": "52c73197-3425-4110-be64-8c4cbf20a129",
   "metadata": {},
   "outputs": [],
   "source": [
    "import pandas as pd\n",
    "import numpy as np\n",
    "import matplotlib.pyplot as plt\n",
    "import seaborn as sns"
   ]
  },
  {
   "cell_type": "code",
   "execution_count": 2,
   "id": "4d4b7ffa-a635-4f72-a058-31bdee58a8e5",
   "metadata": {},
   "outputs": [
    {
     "data": {
      "text/html": [
       "<div>\n",
       "<style scoped>\n",
       "    .dataframe tbody tr th:only-of-type {\n",
       "        vertical-align: middle;\n",
       "    }\n",
       "\n",
       "    .dataframe tbody tr th {\n",
       "        vertical-align: top;\n",
       "    }\n",
       "\n",
       "    .dataframe thead th {\n",
       "        text-align: right;\n",
       "    }\n",
       "</style>\n",
       "<table border=\"1\" class=\"dataframe\">\n",
       "  <thead>\n",
       "    <tr style=\"text-align: right;\">\n",
       "      <th></th>\n",
       "      <th>Date</th>\n",
       "      <th>Mode</th>\n",
       "      <th>Category</th>\n",
       "      <th>Subcategory</th>\n",
       "      <th>Note</th>\n",
       "      <th>Amount</th>\n",
       "      <th>Income/Expense</th>\n",
       "      <th>Currency</th>\n",
       "    </tr>\n",
       "  </thead>\n",
       "  <tbody>\n",
       "    <tr>\n",
       "      <th>0</th>\n",
       "      <td>20/09/2018 12:04:08</td>\n",
       "      <td>Cash</td>\n",
       "      <td>Transportation</td>\n",
       "      <td>Train</td>\n",
       "      <td>2 Place 5 to Place 0</td>\n",
       "      <td>30.0</td>\n",
       "      <td>Expense</td>\n",
       "      <td>INR</td>\n",
       "    </tr>\n",
       "    <tr>\n",
       "      <th>1</th>\n",
       "      <td>20/09/2018 12:03:15</td>\n",
       "      <td>Cash</td>\n",
       "      <td>Food</td>\n",
       "      <td>snacks</td>\n",
       "      <td>Idli medu Vada mix 2 plates</td>\n",
       "      <td>60.0</td>\n",
       "      <td>Expense</td>\n",
       "      <td>INR</td>\n",
       "    </tr>\n",
       "    <tr>\n",
       "      <th>2</th>\n",
       "      <td>19/09/2018</td>\n",
       "      <td>Saving Bank account 1</td>\n",
       "      <td>subscription</td>\n",
       "      <td>Netflix</td>\n",
       "      <td>1 month subscription</td>\n",
       "      <td>199.0</td>\n",
       "      <td>Expense</td>\n",
       "      <td>INR</td>\n",
       "    </tr>\n",
       "    <tr>\n",
       "      <th>3</th>\n",
       "      <td>17/09/2018 23:41:17</td>\n",
       "      <td>Saving Bank account 1</td>\n",
       "      <td>subscription</td>\n",
       "      <td>Mobile Service Provider</td>\n",
       "      <td>Data booster pack</td>\n",
       "      <td>19.0</td>\n",
       "      <td>Expense</td>\n",
       "      <td>INR</td>\n",
       "    </tr>\n",
       "    <tr>\n",
       "      <th>4</th>\n",
       "      <td>16/09/2018 17:15:08</td>\n",
       "      <td>Cash</td>\n",
       "      <td>Festivals</td>\n",
       "      <td>Ganesh Pujan</td>\n",
       "      <td>Ganesh idol</td>\n",
       "      <td>251.0</td>\n",
       "      <td>Expense</td>\n",
       "      <td>INR</td>\n",
       "    </tr>\n",
       "  </tbody>\n",
       "</table>\n",
       "</div>"
      ],
      "text/plain": [
       "                  Date                   Mode        Category  \\\n",
       "0  20/09/2018 12:04:08                   Cash  Transportation   \n",
       "1  20/09/2018 12:03:15                   Cash            Food   \n",
       "2           19/09/2018  Saving Bank account 1    subscription   \n",
       "3  17/09/2018 23:41:17  Saving Bank account 1    subscription   \n",
       "4  16/09/2018 17:15:08                   Cash       Festivals   \n",
       "\n",
       "               Subcategory                         Note  Amount  \\\n",
       "0                    Train         2 Place 5 to Place 0    30.0   \n",
       "1                   snacks  Idli medu Vada mix 2 plates    60.0   \n",
       "2                  Netflix         1 month subscription   199.0   \n",
       "3  Mobile Service Provider            Data booster pack    19.0   \n",
       "4             Ganesh Pujan                  Ganesh idol   251.0   \n",
       "\n",
       "  Income/Expense Currency  \n",
       "0        Expense      INR  \n",
       "1        Expense      INR  \n",
       "2        Expense      INR  \n",
       "3        Expense      INR  \n",
       "4        Expense      INR  "
      ]
     },
     "execution_count": 2,
     "metadata": {},
     "output_type": "execute_result"
    }
   ],
   "source": [
    "# Load the dataset\n",
    "df = pd.read_csv('Daily Household Transactions.csv')\n",
    "\n",
    "df.head()"
   ]
  },
  {
   "cell_type": "code",
   "execution_count": 3,
   "id": "066e5d08-e0ee-4267-8ffc-89fafdb499c6",
   "metadata": {},
   "outputs": [
    {
     "data": {
      "text/html": [
       "<div>\n",
       "<style scoped>\n",
       "    .dataframe tbody tr th:only-of-type {\n",
       "        vertical-align: middle;\n",
       "    }\n",
       "\n",
       "    .dataframe tbody tr th {\n",
       "        vertical-align: top;\n",
       "    }\n",
       "\n",
       "    .dataframe thead th {\n",
       "        text-align: right;\n",
       "    }\n",
       "</style>\n",
       "<table border=\"1\" class=\"dataframe\">\n",
       "  <thead>\n",
       "    <tr style=\"text-align: right;\">\n",
       "      <th></th>\n",
       "      <th>Date</th>\n",
       "      <th>Mode</th>\n",
       "      <th>Category</th>\n",
       "      <th>Subcategory</th>\n",
       "      <th>Note</th>\n",
       "      <th>Amount</th>\n",
       "      <th>Income/Expense</th>\n",
       "      <th>Currency</th>\n",
       "    </tr>\n",
       "  </thead>\n",
       "  <tbody>\n",
       "    <tr>\n",
       "      <th>2456</th>\n",
       "      <td>1/1/2015</td>\n",
       "      <td>Cash</td>\n",
       "      <td>Transportation</td>\n",
       "      <td>NaN</td>\n",
       "      <td>share jeep - Place T base to top</td>\n",
       "      <td>20.0</td>\n",
       "      <td>Expense</td>\n",
       "      <td>INR</td>\n",
       "    </tr>\n",
       "    <tr>\n",
       "      <th>2457</th>\n",
       "      <td>1/1/2015</td>\n",
       "      <td>Cash</td>\n",
       "      <td>Transportation</td>\n",
       "      <td>NaN</td>\n",
       "      <td>share auto - Place H to Place T base</td>\n",
       "      <td>20.0</td>\n",
       "      <td>Expense</td>\n",
       "      <td>INR</td>\n",
       "    </tr>\n",
       "    <tr>\n",
       "      <th>2458</th>\n",
       "      <td>1/1/2015</td>\n",
       "      <td>Cash</td>\n",
       "      <td>Transportation</td>\n",
       "      <td>NaN</td>\n",
       "      <td>bus - brc to Place H</td>\n",
       "      <td>30.0</td>\n",
       "      <td>Expense</td>\n",
       "      <td>INR</td>\n",
       "    </tr>\n",
       "    <tr>\n",
       "      <th>2459</th>\n",
       "      <td>1/1/2015</td>\n",
       "      <td>Cash</td>\n",
       "      <td>Food</td>\n",
       "      <td>NaN</td>\n",
       "      <td>tea</td>\n",
       "      <td>10.0</td>\n",
       "      <td>Expense</td>\n",
       "      <td>INR</td>\n",
       "    </tr>\n",
       "    <tr>\n",
       "      <th>2460</th>\n",
       "      <td>1/1/2015</td>\n",
       "      <td>Cash</td>\n",
       "      <td>Transportation</td>\n",
       "      <td>NaN</td>\n",
       "      <td>share auto - hospital to brc station</td>\n",
       "      <td>10.0</td>\n",
       "      <td>Expense</td>\n",
       "      <td>INR</td>\n",
       "    </tr>\n",
       "  </tbody>\n",
       "</table>\n",
       "</div>"
      ],
      "text/plain": [
       "          Date  Mode        Category Subcategory  \\\n",
       "2456  1/1/2015  Cash  Transportation         NaN   \n",
       "2457  1/1/2015  Cash  Transportation         NaN   \n",
       "2458  1/1/2015  Cash  Transportation         NaN   \n",
       "2459  1/1/2015  Cash            Food         NaN   \n",
       "2460  1/1/2015  Cash  Transportation         NaN   \n",
       "\n",
       "                                      Note  Amount Income/Expense Currency  \n",
       "2456      share jeep - Place T base to top    20.0        Expense      INR  \n",
       "2457  share auto - Place H to Place T base    20.0        Expense      INR  \n",
       "2458                  bus - brc to Place H    30.0        Expense      INR  \n",
       "2459                                   tea    10.0        Expense      INR  \n",
       "2460  share auto - hospital to brc station    10.0        Expense      INR  "
      ]
     },
     "execution_count": 3,
     "metadata": {},
     "output_type": "execute_result"
    }
   ],
   "source": [
    "df.tail()"
   ]
  },
  {
   "cell_type": "markdown",
   "id": "5dd2a051-f503-4e70-a265-60e9dd70d73d",
   "metadata": {},
   "source": [
    "#### Column Descriptors\n",
    "* `Date`: The date and time when the transaction was made\n",
    "* `Mode`: The payment mode used for the transaction\n",
    "* `Category`: Each record is divided into a set of categories of transactions\n",
    "* `Subcategory`: Categories are further broken down into Subcategories of transactions\n",
    "* `Note`: A brief description of the transaction made\n",
    "* `Amount`: The transactional amount\n",
    "* `Income/Expense`: The indicator of each transaction representing either expense or income\n",
    "* `Currency`: All transactions are recorded in official currency of India"
   ]
  },
  {
   "cell_type": "code",
   "execution_count": 4,
   "id": "c585e000-2b9d-483b-a680-c803b7d60da4",
   "metadata": {},
   "outputs": [
    {
     "name": "stdout",
     "output_type": "stream",
     "text": [
      "<class 'pandas.core.frame.DataFrame'>\n",
      "RangeIndex: 2461 entries, 0 to 2460\n",
      "Data columns (total 8 columns):\n",
      " #   Column          Non-Null Count  Dtype  \n",
      "---  ------          --------------  -----  \n",
      " 0   Date            2461 non-null   object \n",
      " 1   Mode            2461 non-null   object \n",
      " 2   Category        2461 non-null   object \n",
      " 3   Subcategory     1826 non-null   object \n",
      " 4   Note            1940 non-null   object \n",
      " 5   Amount          2461 non-null   float64\n",
      " 6   Income/Expense  2461 non-null   object \n",
      " 7   Currency        2461 non-null   object \n",
      "dtypes: float64(1), object(7)\n",
      "memory usage: 153.9+ KB\n"
     ]
    }
   ],
   "source": [
    "df.info()"
   ]
  },
  {
   "cell_type": "code",
   "execution_count": 5,
   "id": "bbba54c8-b5d2-4ad7-a25e-093af59fd7e6",
   "metadata": {},
   "outputs": [
    {
     "data": {
      "text/html": [
       "<div>\n",
       "<style scoped>\n",
       "    .dataframe tbody tr th:only-of-type {\n",
       "        vertical-align: middle;\n",
       "    }\n",
       "\n",
       "    .dataframe tbody tr th {\n",
       "        vertical-align: top;\n",
       "    }\n",
       "\n",
       "    .dataframe thead th {\n",
       "        text-align: right;\n",
       "    }\n",
       "</style>\n",
       "<table border=\"1\" class=\"dataframe\">\n",
       "  <thead>\n",
       "    <tr style=\"text-align: right;\">\n",
       "      <th></th>\n",
       "      <th>Amount</th>\n",
       "    </tr>\n",
       "  </thead>\n",
       "  <tbody>\n",
       "    <tr>\n",
       "      <th>count</th>\n",
       "      <td>2461.000000</td>\n",
       "    </tr>\n",
       "    <tr>\n",
       "      <th>mean</th>\n",
       "      <td>2751.145380</td>\n",
       "    </tr>\n",
       "    <tr>\n",
       "      <th>std</th>\n",
       "      <td>12519.615804</td>\n",
       "    </tr>\n",
       "    <tr>\n",
       "      <th>min</th>\n",
       "      <td>2.000000</td>\n",
       "    </tr>\n",
       "    <tr>\n",
       "      <th>25%</th>\n",
       "      <td>35.000000</td>\n",
       "    </tr>\n",
       "    <tr>\n",
       "      <th>50%</th>\n",
       "      <td>100.000000</td>\n",
       "    </tr>\n",
       "    <tr>\n",
       "      <th>75%</th>\n",
       "      <td>799.000000</td>\n",
       "    </tr>\n",
       "    <tr>\n",
       "      <th>max</th>\n",
       "      <td>250000.000000</td>\n",
       "    </tr>\n",
       "  </tbody>\n",
       "</table>\n",
       "</div>"
      ],
      "text/plain": [
       "              Amount\n",
       "count    2461.000000\n",
       "mean     2751.145380\n",
       "std     12519.615804\n",
       "min         2.000000\n",
       "25%        35.000000\n",
       "50%       100.000000\n",
       "75%       799.000000\n",
       "max    250000.000000"
      ]
     },
     "execution_count": 5,
     "metadata": {},
     "output_type": "execute_result"
    }
   ],
   "source": [
    "df.describe()"
   ]
  },
  {
   "cell_type": "markdown",
   "id": "0019a27c-f3ae-4d49-96a5-b413631102e9",
   "metadata": {},
   "source": [
    "### Step 1.2: convert Data Types"
   ]
  },
  {
   "cell_type": "code",
   "execution_count": 6,
   "id": "722cb77c-2c84-4855-b81b-6f99337e5dc3",
   "metadata": {},
   "outputs": [],
   "source": [
    "df[\"Date\"] = pd.to_datetime(df[\"Date\"], format='mixed', dayfirst=True)"
   ]
  },
  {
   "cell_type": "code",
   "execution_count": 7,
   "id": "6e0225f3-2572-488b-abfa-efc37da03028",
   "metadata": {},
   "outputs": [
    {
     "data": {
      "text/plain": [
       "0      2018-09-20 12:04:08\n",
       "1      2018-09-20 12:03:15\n",
       "2      2018-09-19 00:00:00\n",
       "3      2018-09-17 23:41:17\n",
       "4      2018-09-16 17:15:08\n",
       "               ...        \n",
       "2456   2015-01-01 00:00:00\n",
       "2457   2015-01-01 00:00:00\n",
       "2458   2015-01-01 00:00:00\n",
       "2459   2015-01-01 00:00:00\n",
       "2460   2015-01-01 00:00:00\n",
       "Name: Date, Length: 2461, dtype: datetime64[ns]"
      ]
     },
     "execution_count": 7,
     "metadata": {},
     "output_type": "execute_result"
    }
   ],
   "source": [
    "df[\"Date\"]"
   ]
  },
  {
   "cell_type": "markdown",
   "id": "c1511f66-ef58-443d-89d6-b8df0487f597",
   "metadata": {},
   "source": [
    "### Step 1.3: Handle Missing Value"
   ]
  },
  {
   "cell_type": "code",
   "execution_count": 8,
   "id": "a78379db-472e-4d71-8f1a-fd03e5a3c211",
   "metadata": {},
   "outputs": [
    {
     "data": {
      "text/plain": [
       "Date                0\n",
       "Mode                0\n",
       "Category            0\n",
       "Subcategory       635\n",
       "Note              521\n",
       "Amount              0\n",
       "Income/Expense      0\n",
       "Currency            0\n",
       "dtype: int64"
      ]
     },
     "execution_count": 8,
     "metadata": {},
     "output_type": "execute_result"
    }
   ],
   "source": [
    "df.isnull().sum()"
   ]
  },
  {
   "cell_type": "code",
   "execution_count": 9,
   "id": "ba3cb941-5304-468f-94ef-21339e2b7266",
   "metadata": {},
   "outputs": [],
   "source": [
    "# Fill or missing values\n",
    "df['Subcategory'] = df['Subcategory'].fillna('Unknown')\n",
    "df['Note'] = df['Note'].fillna('Not Specified')"
   ]
  },
  {
   "cell_type": "code",
   "execution_count": 10,
   "id": "c3aa8754-fcb4-432c-922a-45b150667cea",
   "metadata": {},
   "outputs": [
    {
     "data": {
      "text/plain": [
       "Date              0\n",
       "Mode              0\n",
       "Category          0\n",
       "Subcategory       0\n",
       "Note              0\n",
       "Amount            0\n",
       "Income/Expense    0\n",
       "Currency          0\n",
       "dtype: int64"
      ]
     },
     "execution_count": 10,
     "metadata": {},
     "output_type": "execute_result"
    }
   ],
   "source": [
    "df.isnull().sum()"
   ]
  },
  {
   "cell_type": "markdown",
   "id": "f8c60fa6-c13a-4427-9821-5a00201be856",
   "metadata": {},
   "source": [
    "### Step 1.4: Remove Duplicates"
   ]
  },
  {
   "cell_type": "code",
   "execution_count": 11,
   "id": "f60348a4-27ef-4898-bc3d-566ac9bf0f04",
   "metadata": {},
   "outputs": [
    {
     "data": {
      "text/plain": [
       "9"
      ]
     },
     "execution_count": 11,
     "metadata": {},
     "output_type": "execute_result"
    }
   ],
   "source": [
    "df.duplicated().sum()"
   ]
  },
  {
   "cell_type": "code",
   "execution_count": 12,
   "id": "f7e12a11-0301-40ac-be46-7163399d9e5e",
   "metadata": {},
   "outputs": [],
   "source": [
    "df = df.drop_duplicates()"
   ]
  },
  {
   "cell_type": "code",
   "execution_count": 13,
   "id": "a095a584-cd05-4459-b906-ffc64af8eb9d",
   "metadata": {},
   "outputs": [
    {
     "data": {
      "text/plain": [
       "0"
      ]
     },
     "execution_count": 13,
     "metadata": {},
     "output_type": "execute_result"
    }
   ],
   "source": [
    "df.duplicated().sum()"
   ]
  },
  {
   "cell_type": "markdown",
   "id": "a0448f9f-d101-428d-afd7-d6608737e4a1",
   "metadata": {},
   "source": [
    "### Step 1.5: Standardize Categorical Data"
   ]
  },
  {
   "cell_type": "code",
   "execution_count": 14,
   "id": "837608ef-7673-4b02-8730-83503d5891b5",
   "metadata": {},
   "outputs": [],
   "source": [
    "# Convert to lowercase and strip whitespace\n",
    "df['Category'] = df['Category'].str.strip().str.lower()\n",
    "df['Subcategory'] = df['Subcategory'].str.strip().str.lower()\n",
    "df['Mode'] = df['Mode'].str.strip().str.lower()\n",
    "df['Income/Expense'] = df['Income/Expense'].str.strip()\n",
    "\n",
    "# Fix specific inconsistencies in Subcategory\n",
    "subcategory_mapping = {\n",
    "    'train': 'train',\n",
    "    'auto': 'auto',\n",
    "    'pocket money': 'pocket money',\n",
    "    'laundry': 'laundry',\n",
    "    'breakfast': 'breakfast',\n",
    "    'dinner': 'dinner',\n",
    "    'lunch': 'lunch',\n",
    "    'snacks': 'snacks',\n",
    "    'tea': 'tea',\n",
    "    'groceries': 'grocery',\n",
    "    'kirana': 'grocery',\n",
    "    'vegetables': 'grocery',\n",
    "    'fruits': 'grocery',\n",
    "    'milk': 'grocery',\n",
    "    'curd': 'grocery',\n",
    "    'eggs': 'grocery',\n",
    "    'bread': 'grocery',\n",
    "    'biscuits': 'grocery',\n",
    "    'chocolate': 'grocery',\n",
    "    'beverage': 'grocery',\n",
    "    'water': 'grocery',\n",
    "    'potato': 'grocery',\n",
    "    'onions': 'grocery',\n",
    "    'sweets': 'grocery',\n",
    "    'ice cream': 'grocery',\n",
    "    'rajgira ladu': 'grocery',\n",
    "    'clothing': 'clothing',\n",
    "    'clothes': 'clothing',\n",
    "    'footwear': 'clothing',\n",
    "    'accessories': 'clothing',\n",
    "    'makeup': 'beauty',\n",
    "    'grooming': 'beauty',\n",
    "    'saloon': 'beauty',\n",
    "    'medicine': 'health',\n",
    "    'hospital': 'health',\n",
    "    'lab tests': 'health',\n",
    "    'medicine': 'health',\n",
    "    'taxi': 'taxi',\n",
    "    'bus': 'bus',\n",
    "    'travels': 'travel',\n",
    "    'trip': 'travel',\n",
    "    'petrol': 'fuel',\n",
    "    'mahanagar gas': 'fuel',\n",
    "    'netflix': 'ott',\n",
    "    'hotstar': 'ott',\n",
    "    'amazon prime': 'ott',\n",
    "    'kindle unlimited': 'ott',\n",
    "    'audible': 'ott',\n",
    "    'tata sky': 'cable tv',\n",
    "    'cable tv': 'cable tv',\n",
    "    'wifi internet service': 'internet',\n",
    "    'mobile service provider': 'mobile',\n",
    "    'public provident fund': 'ppf',\n",
    "    'mutual fund': 'mutual fund',\n",
    "    'rd': 'recurring deposit',\n",
    "    'lic': 'life insurance',\n",
    "    'exam fee': 'education',\n",
    "    'school supplies': 'education',\n",
    "    'edtech course': 'education',\n",
    "    'books': 'education',\n",
    "    'newspaper': 'education',\n",
    "    'stationary': 'education',\n",
    "    'gift': 'gift',\n",
    "    'unknown': 'unknown',\n",
    "    'misc': 'misc',\n",
    "    'other': 'other'\n",
    "}\n",
    "df['Subcategory_Clean'] = df['Subcategory'].map(subcategory_mapping).fillna(df['Subcategory'])"
   ]
  },
  {
   "cell_type": "markdown",
   "id": "15c9cb54-966c-4a14-878e-3aee900a1386",
   "metadata": {},
   "source": [
    "### Step 1.6: Create High-Level Categories "
   ]
  },
  {
   "cell_type": "code",
   "execution_count": 15,
   "id": "a79ffec2-f978-4424-b19d-5c2a3c528a91",
   "metadata": {},
   "outputs": [],
   "source": [
    "# Define category type mapping (as previously discussed)\n",
    "category_type_mapping = {\n",
    "    # --- Expenses ---\n",
    "    'transportation': 'Expense',\n",
    "    'food': 'Expense',\n",
    "    'subscription': 'Expense',\n",
    "    'festivals': 'Expense',\n",
    "    'family': 'Expense',\n",
    "    'apparel': 'Expense',\n",
    "    'household': 'Expense',\n",
    "    'beauty': 'Expense',\n",
    "    'health': 'Expense',\n",
    "    'maid': 'Expense',\n",
    "    'culture': 'Expense',\n",
    "    'tourism': 'Expense',\n",
    "    'self-development': 'Expense',\n",
    "    'education': 'Expense',\n",
    "    'petty cash': 'Expense',\n",
    "    'documents': 'Expense',\n",
    "    'social life': 'Expense',\n",
    "    'grooming': 'Expense',\n",
    "    'rent': 'Expense',\n",
    "    'cook': 'Expense',\n",
    "    'garbage disposal': 'Expense',\n",
    "    'water (jar /tanker)': 'Expense',\n",
    "    'other': 'Expense', # Assuming 'other' is an expense\n",
    "\n",
    "    # --- Income ---\n",
    "    'salary': 'Income',\n",
    "    'gift': 'Income',\n",
    "    'dividend earned on shares': 'Income',\n",
    "    'interest': 'Income',\n",
    "    'tax refund': 'Income',\n",
    "    'amazon pay cashback': 'Income',\n",
    "    'gpay reward': 'Income',\n",
    "    'maturity amount': 'Income', # This is return of capital, not profit\n",
    "    'bonus': 'Income',\n",
    "\n",
    "    # --- Investments (Capital Allocation) ---\n",
    "    # Purchases are negative cash flow, sales are positive.\n",
    "    'small cap fund 2': 'Investment',\n",
    "    'small cap fund 1': 'Investment',\n",
    "    'equity mutual fund a': 'Investment',\n",
    "    'equity mutual fund b': 'Investment',\n",
    "    'equity mutual fund c': 'Investment',\n",
    "    'equity mutual fund d': 'Investment',\n",
    "    'equity mutual fund e': 'Investment',\n",
    "    'equity mutual fund f': 'Investment',\n",
    "    'public provident fund': 'Investment',\n",
    "    'fixed deposit': 'Investment', # Consider for Net Worth, not Income\n",
    "    'recurring deposit': 'Investment',\n",
    "    'share market': 'Investment',\n",
    "    'investment': 'Investment',\n",
    "\n",
    "    # --- Transfers (Movement between your accounts) ---\n",
    "    # Net effect on Net Worth is zero.\n",
    "    'saving bank account 1': 'Transfer',\n",
    "    'saving bank account 2': 'Transfer',\n",
    "    'money transfer': 'Transfer',\n",
    "    'scrap': 'Transfer', # Likely selling an asset for scrap value\n",
    "}\n",
    "\n",
    "df['Category_Type'] = df['Category'].map(category_type_mapping)\n",
    "df['Category_Type'] = df['Category_Type'].fillna('Expense')  # Default to Expens"
   ]
  },
  {
   "cell_type": "code",
   "execution_count": 16,
   "id": "76f3dc70-18ef-4091-99b8-6e023644ccee",
   "metadata": {},
   "outputs": [
    {
     "data": {
      "text/html": [
       "<div>\n",
       "<style scoped>\n",
       "    .dataframe tbody tr th:only-of-type {\n",
       "        vertical-align: middle;\n",
       "    }\n",
       "\n",
       "    .dataframe tbody tr th {\n",
       "        vertical-align: top;\n",
       "    }\n",
       "\n",
       "    .dataframe thead th {\n",
       "        text-align: right;\n",
       "    }\n",
       "</style>\n",
       "<table border=\"1\" class=\"dataframe\">\n",
       "  <thead>\n",
       "    <tr style=\"text-align: right;\">\n",
       "      <th></th>\n",
       "      <th>Date</th>\n",
       "      <th>Mode</th>\n",
       "      <th>Category</th>\n",
       "      <th>Subcategory</th>\n",
       "      <th>Note</th>\n",
       "      <th>Amount</th>\n",
       "      <th>Income/Expense</th>\n",
       "      <th>Currency</th>\n",
       "      <th>Subcategory_Clean</th>\n",
       "      <th>Category_Type</th>\n",
       "    </tr>\n",
       "  </thead>\n",
       "  <tbody>\n",
       "    <tr>\n",
       "      <th>0</th>\n",
       "      <td>2018-09-20 12:04:08</td>\n",
       "      <td>cash</td>\n",
       "      <td>transportation</td>\n",
       "      <td>train</td>\n",
       "      <td>2 Place 5 to Place 0</td>\n",
       "      <td>30.0</td>\n",
       "      <td>Expense</td>\n",
       "      <td>INR</td>\n",
       "      <td>train</td>\n",
       "      <td>Expense</td>\n",
       "    </tr>\n",
       "    <tr>\n",
       "      <th>1</th>\n",
       "      <td>2018-09-20 12:03:15</td>\n",
       "      <td>cash</td>\n",
       "      <td>food</td>\n",
       "      <td>snacks</td>\n",
       "      <td>Idli medu Vada mix 2 plates</td>\n",
       "      <td>60.0</td>\n",
       "      <td>Expense</td>\n",
       "      <td>INR</td>\n",
       "      <td>snacks</td>\n",
       "      <td>Expense</td>\n",
       "    </tr>\n",
       "    <tr>\n",
       "      <th>2</th>\n",
       "      <td>2018-09-19 00:00:00</td>\n",
       "      <td>saving bank account 1</td>\n",
       "      <td>subscription</td>\n",
       "      <td>netflix</td>\n",
       "      <td>1 month subscription</td>\n",
       "      <td>199.0</td>\n",
       "      <td>Expense</td>\n",
       "      <td>INR</td>\n",
       "      <td>ott</td>\n",
       "      <td>Expense</td>\n",
       "    </tr>\n",
       "    <tr>\n",
       "      <th>3</th>\n",
       "      <td>2018-09-17 23:41:17</td>\n",
       "      <td>saving bank account 1</td>\n",
       "      <td>subscription</td>\n",
       "      <td>mobile service provider</td>\n",
       "      <td>Data booster pack</td>\n",
       "      <td>19.0</td>\n",
       "      <td>Expense</td>\n",
       "      <td>INR</td>\n",
       "      <td>mobile</td>\n",
       "      <td>Expense</td>\n",
       "    </tr>\n",
       "    <tr>\n",
       "      <th>4</th>\n",
       "      <td>2018-09-16 17:15:08</td>\n",
       "      <td>cash</td>\n",
       "      <td>festivals</td>\n",
       "      <td>ganesh pujan</td>\n",
       "      <td>Ganesh idol</td>\n",
       "      <td>251.0</td>\n",
       "      <td>Expense</td>\n",
       "      <td>INR</td>\n",
       "      <td>ganesh pujan</td>\n",
       "      <td>Expense</td>\n",
       "    </tr>\n",
       "    <tr>\n",
       "      <th>...</th>\n",
       "      <td>...</td>\n",
       "      <td>...</td>\n",
       "      <td>...</td>\n",
       "      <td>...</td>\n",
       "      <td>...</td>\n",
       "      <td>...</td>\n",
       "      <td>...</td>\n",
       "      <td>...</td>\n",
       "      <td>...</td>\n",
       "      <td>...</td>\n",
       "    </tr>\n",
       "    <tr>\n",
       "      <th>2456</th>\n",
       "      <td>2015-01-01 00:00:00</td>\n",
       "      <td>cash</td>\n",
       "      <td>transportation</td>\n",
       "      <td>unknown</td>\n",
       "      <td>share jeep - Place T base to top</td>\n",
       "      <td>20.0</td>\n",
       "      <td>Expense</td>\n",
       "      <td>INR</td>\n",
       "      <td>unknown</td>\n",
       "      <td>Expense</td>\n",
       "    </tr>\n",
       "    <tr>\n",
       "      <th>2457</th>\n",
       "      <td>2015-01-01 00:00:00</td>\n",
       "      <td>cash</td>\n",
       "      <td>transportation</td>\n",
       "      <td>unknown</td>\n",
       "      <td>share auto - Place H to Place T base</td>\n",
       "      <td>20.0</td>\n",
       "      <td>Expense</td>\n",
       "      <td>INR</td>\n",
       "      <td>unknown</td>\n",
       "      <td>Expense</td>\n",
       "    </tr>\n",
       "    <tr>\n",
       "      <th>2458</th>\n",
       "      <td>2015-01-01 00:00:00</td>\n",
       "      <td>cash</td>\n",
       "      <td>transportation</td>\n",
       "      <td>unknown</td>\n",
       "      <td>bus - brc to Place H</td>\n",
       "      <td>30.0</td>\n",
       "      <td>Expense</td>\n",
       "      <td>INR</td>\n",
       "      <td>unknown</td>\n",
       "      <td>Expense</td>\n",
       "    </tr>\n",
       "    <tr>\n",
       "      <th>2459</th>\n",
       "      <td>2015-01-01 00:00:00</td>\n",
       "      <td>cash</td>\n",
       "      <td>food</td>\n",
       "      <td>unknown</td>\n",
       "      <td>tea</td>\n",
       "      <td>10.0</td>\n",
       "      <td>Expense</td>\n",
       "      <td>INR</td>\n",
       "      <td>unknown</td>\n",
       "      <td>Expense</td>\n",
       "    </tr>\n",
       "    <tr>\n",
       "      <th>2460</th>\n",
       "      <td>2015-01-01 00:00:00</td>\n",
       "      <td>cash</td>\n",
       "      <td>transportation</td>\n",
       "      <td>unknown</td>\n",
       "      <td>share auto - hospital to brc station</td>\n",
       "      <td>10.0</td>\n",
       "      <td>Expense</td>\n",
       "      <td>INR</td>\n",
       "      <td>unknown</td>\n",
       "      <td>Expense</td>\n",
       "    </tr>\n",
       "  </tbody>\n",
       "</table>\n",
       "<p>2452 rows × 10 columns</p>\n",
       "</div>"
      ],
      "text/plain": [
       "                    Date                   Mode        Category  \\\n",
       "0    2018-09-20 12:04:08                   cash  transportation   \n",
       "1    2018-09-20 12:03:15                   cash            food   \n",
       "2    2018-09-19 00:00:00  saving bank account 1    subscription   \n",
       "3    2018-09-17 23:41:17  saving bank account 1    subscription   \n",
       "4    2018-09-16 17:15:08                   cash       festivals   \n",
       "...                  ...                    ...             ...   \n",
       "2456 2015-01-01 00:00:00                   cash  transportation   \n",
       "2457 2015-01-01 00:00:00                   cash  transportation   \n",
       "2458 2015-01-01 00:00:00                   cash  transportation   \n",
       "2459 2015-01-01 00:00:00                   cash            food   \n",
       "2460 2015-01-01 00:00:00                   cash  transportation   \n",
       "\n",
       "                  Subcategory                                  Note  Amount  \\\n",
       "0                       train                  2 Place 5 to Place 0    30.0   \n",
       "1                      snacks           Idli medu Vada mix 2 plates    60.0   \n",
       "2                     netflix                  1 month subscription   199.0   \n",
       "3     mobile service provider                     Data booster pack    19.0   \n",
       "4                ganesh pujan                           Ganesh idol   251.0   \n",
       "...                       ...                                   ...     ...   \n",
       "2456                  unknown      share jeep - Place T base to top    20.0   \n",
       "2457                  unknown  share auto - Place H to Place T base    20.0   \n",
       "2458                  unknown                  bus - brc to Place H    30.0   \n",
       "2459                  unknown                                   tea    10.0   \n",
       "2460                  unknown  share auto - hospital to brc station    10.0   \n",
       "\n",
       "     Income/Expense Currency Subcategory_Clean Category_Type  \n",
       "0           Expense      INR             train       Expense  \n",
       "1           Expense      INR            snacks       Expense  \n",
       "2           Expense      INR               ott       Expense  \n",
       "3           Expense      INR            mobile       Expense  \n",
       "4           Expense      INR      ganesh pujan       Expense  \n",
       "...             ...      ...               ...           ...  \n",
       "2456        Expense      INR           unknown       Expense  \n",
       "2457        Expense      INR           unknown       Expense  \n",
       "2458        Expense      INR           unknown       Expense  \n",
       "2459        Expense      INR           unknown       Expense  \n",
       "2460        Expense      INR           unknown       Expense  \n",
       "\n",
       "[2452 rows x 10 columns]"
      ]
     },
     "execution_count": 16,
     "metadata": {},
     "output_type": "execute_result"
    }
   ],
   "source": [
    "df"
   ]
  },
  {
   "cell_type": "markdown",
   "id": "16106564-7326-45df-b01b-ea5a8b1441e1",
   "metadata": {},
   "source": [
    "### Step 1.7: Seperate Income and Expenses"
   ]
  },
  {
   "cell_type": "code",
   "execution_count": 17,
   "id": "779cd878-3262-4f07-b84f-9b6ed5e72afb",
   "metadata": {},
   "outputs": [
    {
     "name": "stdout",
     "output_type": "stream",
     "text": [
      "Total expenses: 2173 transactions\n",
      "Total income: 125 transactions\n"
     ]
    }
   ],
   "source": [
    "# Create separate DataFrames\n",
    "expenses_df = df[df['Income/Expense'] == 'Expense'].copy()\n",
    "income_df = df[df['Income/Expense'] == 'Income'].copy()\n",
    "\n",
    "print(f\"Total expenses: {len(expenses_df)} transactions\")\n",
    "print(f\"Total income: {len(income_df)} transactions\")"
   ]
  },
  {
   "cell_type": "markdown",
   "id": "a06ce2c1-828d-45cc-99d4-97f55c60ea37",
   "metadata": {},
   "source": [
    "## Phase 2: Exploratory Data Analysis (EDA)"
   ]
  },
  {
   "cell_type": "markdown",
   "id": "798ce91b-3443-4c1d-9c4c-20216514af36",
   "metadata": {},
   "source": [
    "#### Goal: Understand spending patterns, income sources, and financial behavior"
   ]
  },
  {
   "cell_type": "markdown",
   "id": "662574ff-5f68-459e-a111-f0790d9abcb8",
   "metadata": {},
   "source": [
    "### Step 2.1: Calculate Key Financial Metrics"
   ]
  },
  {
   "cell_type": "code",
   "execution_count": 18,
   "id": "4ad044a2-6bab-4c4c-bd54-8e6aa52b64f5",
   "metadata": {},
   "outputs": [
    {
     "name": "stdout",
     "output_type": "stream",
     "text": [
      "Total Income: ₹3,042,397.35\n",
      "Total Expenses: ₹1,955,380.53\n",
      "Net Savings: ₹1,087,016.82\n",
      "Savings Rate: 35.7%\n"
     ]
    }
   ],
   "source": [
    "# Basic financial health metrics\n",
    "total_income = income_df['Amount'].sum()\n",
    "total_expenses = expenses_df['Amount'].sum()\n",
    "net_savings = total_income - total_expenses\n",
    "savings_rate = (net_savings / total_income) * 100\n",
    "\n",
    "print(f\"Total Income: ₹{total_income:,.2f}\")\n",
    "print(f\"Total Expenses: ₹{total_expenses:,.2f}\")\n",
    "print(f\"Net Savings: ₹{net_savings:,.2f}\")\n",
    "print(f\"Savings Rate: {savings_rate:.1f}%\")"
   ]
  },
  {
   "cell_type": "markdown",
   "id": "3d9f2a9b-3fbf-456d-85d6-f85771d6546f",
   "metadata": {},
   "source": [
    "### Step 2.2: Analyze Trends Over Time"
   ]
  },
  {
   "cell_type": "code",
   "execution_count": 19,
   "id": "cec35f57-f314-4d52-937f-04317bf6222a",
   "metadata": {},
   "outputs": [
    {
     "data": {
      "image/png": "[encoded data removed]",
      "text/plain": [
       "<Figure size 1200x600 with 1 Axes>"
      ]
     },
     "metadata": {},
     "output_type": "display_data"
    }
   ],
   "source": [
    "# Set date as index for time series analysis\n",
    "expenses_df.set_index('Date', inplace=True)\n",
    "income_df.set_index('Date', inplace=True)\n",
    "\n",
    "# Monthly trends\n",
    "monthly_expenses = expenses_df['Amount'].resample('ME').sum()\n",
    "monthly_income = income_df['Amount'].resample('ME').sum()\n",
    "\n",
    "# Plot income vs expenses\n",
    "plt.figure(figsize=(12, 6))\n",
    "monthly_income.plot(label='Income', color='green', marker='o')\n",
    "monthly_expenses.plot(label='Expenses', color='red', marker='o')\n",
    "plt.title('Monthly Income vs Expenses')\n",
    "plt.ylabel('Amount (₹)')\n",
    "plt.legend()\n",
    "plt.grid(True)\n",
    "plt.show()"
   ]
  },
  {
   "cell_type": "markdown",
   "id": "d98bd07c-604a-42e2-b10a-1dec8974a622",
   "metadata": {},
   "source": [
    "### Step 2.3: Category Analysis"
   ]
  },
  {
   "cell_type": "code",
   "execution_count": 20,
   "id": "0926cdb1-a641-485d-9ec5-64d433ec2203",
   "metadata": {},
   "outputs": [
    {
     "data": {
      "image/png": "[encoded data removed]",
      "text/plain": [
       "<Figure size 1000x600 with 1 Axes>"
      ]
     },
     "metadata": {},
     "output_type": "display_data"
    }
   ],
   "source": [
    "# Top expense categories\n",
    "top_categories = expenses_df.groupby('Category')['Amount'].sum().sort_values(ascending=False).head(10)\n",
    "\n",
    "plt.figure(figsize=(10, 6))\n",
    "top_categories.plot(kind='barh')\n",
    "plt.title('Top 10 Expense Categories by Amount')\n",
    "plt.xlabel('Total Amount (₹)')\n",
    "plt.gca().invert_yaxis()\n",
    "plt.show()"
   ]
  },
  {
   "cell_type": "markdown",
   "id": "8406af0f-2493-4209-9874-a2db2c2cee2c",
   "metadata": {},
   "source": [
    "### Step 2.4: Payment Mode Analysis"
   ]
  },
  {
   "cell_type": "code",
   "execution_count": 23,
   "id": "ab4e26fe-7108-4101-b511-f0e5c41e852f",
   "metadata": {},
   "outputs": [
    {
     "name": "stdout",
     "output_type": "stream",
     "text": [
      "Spending by Payment Mode:\n",
      "                       Total_Spent  Transaction_Count  Avg_Transaction\n",
      "Mode                                                                  \n",
      "saving bank account 1   1575728.46                969      1626.138762\n",
      "credit card              205254.01                162      1267.000062\n",
      "cash                     173421.00               1038       167.072254\n",
      "debit card                  942.36                  2       471.180000\n",
      "saving bank account 2        34.70                  2        17.350000\n"
     ]
    }
   ],
   "source": [
    "# Analyze spending by payment method\n",
    "mode_analysis = expenses_df.groupby('Mode').agg(\n",
    "    Total_Spent=('Amount', 'sum'),\n",
    "    Transaction_Count=('Amount', 'count'),\n",
    "    Avg_Transaction=('Amount', 'mean')\n",
    ").sort_values('Total_Spent', ascending=False)\n",
    "\n",
    "print(\"Spending by Payment Mode:\")\n",
    "print(mode_analysis)"
   ]
  },
  {
   "cell_type": "markdown",
   "id": "ff66f7ed-fa2a-4b30-9732-9cd89fc3ca5f",
   "metadata": {},
   "source": [
    "### Step 2.5: Subcategory Drill-Down"
   ]
  },
  {
   "cell_type": "code",
   "execution_count": 24,
   "id": "76d84b84-682b-47e7-864d-7fc1a9077c47",
   "metadata": {},
   "outputs": [
    {
     "name": "stdout",
     "output_type": "stream",
     "text": [
      "Food Spending Breakdown:\n",
      "                   Total_Spent  Transaction_Count\n",
      "Subcategory_Clean                                \n",
      "grocery               40992.80                484\n",
      "dinner                22903.10                 55\n",
      "lunch                 11390.45                 68\n",
      "unknown                8286.00                 85\n",
      "snacks                 5980.75                115\n",
      "eating out             2868.00                  8\n",
      "flour mill             2007.00                 20\n",
      "breakfast              1127.00                 29\n",
      "tea                     838.00                 42\n"
     ]
    }
   ],
   "source": [
    "# Analyze specific category in detail\n",
    "food_spending = expenses_df[expenses_df['Category'] == 'food']\n",
    "food_breakdown = food_spending.groupby('Subcategory_Clean').agg(\n",
    "    Total_Spent=('Amount', 'sum'),\n",
    "    Transaction_Count=('Amount', 'count')\n",
    ").sort_values('Total_Spent', ascending=False)\n",
    "\n",
    "print(\"Food Spending Breakdown:\")\n",
    "print(food_breakdown)"
   ]
  },
  {
   "cell_type": "markdown",
   "id": "ee78b2a4-4ff8-477e-826c-2c976a774af8",
   "metadata": {},
   "source": [
    "## Phase 3: Forecasting Model Building"
   ]
  },
  {
   "cell_type": "markdown",
   "id": "3e27964f-7bbf-4ef9-958e-0276f0aecb93",
   "metadata": {},
   "source": [
    "#### Goal: Create a predictive model for future expenses."
   ]
  },
  {
   "cell_type": "markdown",
   "id": "27b739be-6563-46d6-a2b0-aec56997aae3",
   "metadata": {},
   "source": [
    "### Step 3.1: Prepare Data for Modeling"
   ]
  },
  {
   "cell_type": "code",
   "execution_count": 26,
   "id": "22daedca-937b-460c-b5a5-27a046709828",
   "metadata": {},
   "outputs": [],
   "source": [
    "# Create monthly expense data\n",
    "monthly_expenses_series = expenses_df['Amount'].resample('ME').sum()\n",
    "\n",
    "# Convert to DataFrame for modeling\n",
    "model_df = monthly_expenses_series.reset_index()\n",
    "model_df.columns = ['Date', 'Total_Expenses']"
   ]
  },
  {
   "cell_type": "markdown",
   "id": "b2033559-4035-424f-9eb8-b80d040df311",
   "metadata": {},
   "source": [
    "### Step 3.2: Install and Import Prophet"
   ]
  },
  {
   "cell_type": "code",
   "execution_count": 29,
   "id": "e468c844-43b6-402c-a8fa-ea578b49a114",
   "metadata": {},
   "outputs": [],
   "source": [
    "# Install Facebook Prophet if needed\n",
    "#!pip install prophet"
   ]
  },
  {
   "cell_type": "code",
   "execution_count": 30,
   "id": "51914cda-a557-4a60-b6ae-50f3731f7a70",
   "metadata": {},
   "outputs": [],
   "source": [
    "from prophet import Prophet"
   ]
  },
  {
   "cell_type": "markdown",
   "id": "3b9e17df-3769-4992-b826-6b38add1efa7",
   "metadata": {},
   "source": [
    "### Step 3.3: Train-Test Split"
   ]
  },
  {
   "cell_type": "code",
   "execution_count": 31,
   "id": "cf1ab1ef-cedc-44e9-927c-2138f909dd49",
   "metadata": {},
   "outputs": [
    {
     "name": "stdout",
     "output_type": "stream",
     "text": [
      "Training period: 2015-01-31 00:00:00 to 2017-12-31 00:00:00\n",
      "Testing period: 2018-01-31 00:00:00 to 2018-09-30 00:00:00\n"
     ]
    }
   ],
   "source": [
    "# Split into training and testing sets\n",
    "train_size = int(len(model_df) * 0.8)\n",
    "train_data = model_df.iloc[:train_size]\n",
    "test_data = model_df.iloc[train_size:]\n",
    "\n",
    "print(f\"Training period: {train_data['Date'].min()} to {train_data['Date'].max()}\")\n",
    "print(f\"Testing period: {test_data['Date'].min()} to {test_data['Date'].max()}\")"
   ]
  },
  {
   "cell_type": "markdown",
   "id": "6b4e2745-bec3-4cc3-a0bc-43d55fe2f6f9",
   "metadata": {},
   "source": [
    "### Step 3.4: Train the Model"
   ]
  },
  {
   "cell_type": "code",
   "execution_count": 32,
   "id": "5996aaee-0a6d-4e8d-be71-b95efdd09195",
   "metadata": {},
   "outputs": [
    {
     "name": "stderr",
     "output_type": "stream",
     "text": [
      "22:00:26 - cmdstanpy - INFO - Chain [1] start processing\n",
      "22:00:27 - cmdstanpy - INFO - Chain [1] done processing\n"
     ]
    },
    {
     "data": {
      "text/plain": [
       "<prophet.forecaster.Prophet at 0x1dd799dc860>"
      ]
     },
     "execution_count": 32,
     "metadata": {},
     "output_type": "execute_result"
    }
   ],
   "source": [
    "# Prepare data for Prophet\n",
    "prophet_train = train_data.rename(columns={'Date': 'ds', 'Total_Expenses': 'y'})\n",
    "\n",
    "# Create and fit model\n",
    "model = Prophet()\n",
    "model.fit(prophet_train)"
   ]
  },
  {
   "cell_type": "markdown",
   "id": "34ee5aad-8fc2-468e-b786-4bc5a65faf8a",
   "metadata": {},
   "source": [
    "### Step 3.5: Make Predictions and Evaluate"
   ]
  },
  {
   "cell_type": "code",
   "execution_count": 35,
   "id": "2dfa0dcc-828e-4fce-be1f-48899261b27d",
   "metadata": {},
   "outputs": [
    {
     "data": {
      "image/png": "[encoded data removed]",
      "text/plain": [
       "<Figure size 1000x600 with 1 Axes>"
      ]
     },
     "metadata": {},
     "output_type": "display_data"
    }
   ],
   "source": [
    "# Create future dates including test period\n",
    "future = model.make_future_dataframe(periods=len(test_data), freq='ME')\n",
    "\n",
    "# Generate forecast\n",
    "forecast = model.predict(future)\n",
    "\n",
    "# Plot the forecast\n",
    "fig = model.plot(forecast)\n",
    "plt.title('Expense Forecast with Prophet')\n",
    "plt.show()"
   ]
  },
  {
   "cell_type": "code",
   "execution_count": 36,
   "id": "67273fb5-a0e3-44b4-8e29-d77735f1e1a0",
   "metadata": {},
   "outputs": [
    {
     "name": "stdout",
     "output_type": "stream",
     "text": [
      "Mean Absolute Error: ₹28236.46\n",
      "Mean Absolute Percentage Error: 172.6%\n"
     ]
    }
   ],
   "source": [
    "# Calculate accuracy metrics\n",
    "from sklearn.metrics import mean_absolute_error, mean_absolute_percentage_error\n",
    "\n",
    "predictions = forecast['yhat'][-len(test_data):].values\n",
    "actuals = test_data['Total_Expenses'].values\n",
    "\n",
    "mae = mean_absolute_error(actuals, predictions)\n",
    "mape = mean_absolute_percentage_error(actuals, predictions) * 100\n",
    "\n",
    "print(f\"Mean Absolute Error: ₹{mae:.2f}\")\n",
    "print(f\"Mean Absolute Percentage Error: {mape:.1f}%\")"
   ]
  },
  {
   "cell_type": "markdown",
   "id": "f283454a-3174-4938-8364-a8a18ea7fbb0",
   "metadata": {},
   "source": [
    "### Step 3.6: Final Forecast"
   ]
  },
  {
   "cell_type": "code",
   "execution_count": 38,
   "id": "b1b1a755-aa97-4bef-99a9-521c0defdd25",
   "metadata": {},
   "outputs": [
    {
     "name": "stderr",
     "output_type": "stream",
     "text": [
      "22:02:53 - cmdstanpy - INFO - Chain [1] start processing\n",
      "22:02:53 - cmdstanpy - INFO - Chain [1] done processing\n"
     ]
    },
    {
     "name": "stdout",
     "output_type": "stream",
     "text": [
      "           ds          yhat    yhat_lower     yhat_upper\n",
      "45 2018-10-31  54071.357339  33888.872197   74258.496911\n",
      "46 2018-11-30  62934.864356  43277.467429   82598.670684\n",
      "47 2018-12-31  85066.274338  63567.219211  105355.958018\n",
      "48 2019-01-31  86215.474151  65622.854053  106531.477679\n",
      "49 2019-02-28  51393.126360  30284.310584   71005.825332\n",
      "50 2019-03-31  50850.822255  30590.542883   71053.008801\n"
     ]
    }
   ],
   "source": [
    "# Train final model on all data\n",
    "final_model = Prophet()\n",
    "final_df = model_df.rename(columns={'Date': 'ds', 'Total_Expenses': 'y'})\n",
    "final_model.fit(final_df)\n",
    "\n",
    "# Forecast next 6 months\n",
    "future_forecast = final_model.make_future_dataframe(periods=6, freq='ME')\n",
    "final_forecast = final_model.predict(future_forecast)\n",
    "\n",
    "# View the forecast\n",
    "print(final_forecast[['ds', 'yhat', 'yhat_lower', 'yhat_upper']].tail(6))"
   ]
  },
  {
   "cell_type": "markdown",
   "id": "31a24ff7-32be-4d41-a41b-65990c8a33b6",
   "metadata": {},
   "source": [
    "## Phase 4: Reporting & Recommendations"
   ]
  },
  {
   "cell_type": "markdown",
   "id": "69297a09-ba4a-4fb0-8bc4-bc51e6b082e0",
   "metadata": {},
   "source": [
    "#### Goal: Create actionable insights and recommendations."
   ]
  },
  {
   "cell_type": "markdown",
   "id": "b0ddb54a-94f8-47ca-b37b-844b51ee2545",
   "metadata": {},
   "source": [
    "### Step 4.1: Create Summary Dashboard"
   ]
  },
  {
   "cell_type": "code",
   "execution_count": 40,
   "id": "8ca01f4c-ab7d-41b6-b340-588517dc2643",
   "metadata": {},
   "outputs": [
    {
     "name": "stdout",
     "output_type": "stream",
     "text": [
      "FINANCIAL SUMMARY\n",
      "=================\n",
      "Total Income: ₹3,042,397.35\n",
      "Total Expenses: ₹1,955,380.53\n",
      "Net Savings: ₹1,087,016.82\n",
      "Savings Rate: 35.7%\n",
      "Avg Monthly Expense: ₹43,452.90\n",
      "Forecast Next Month: ₹50,850.82\n"
     ]
    }
   ],
   "source": [
    "# Key metrics for dashboard\n",
    "summary_metrics = {\n",
    "    'Total Income': f\"₹{total_income:,.2f}\",\n",
    "    'Total Expenses': f\"₹{total_expenses:,.2f}\", \n",
    "    'Net Savings': f\"₹{net_savings:,.2f}\",\n",
    "    'Savings Rate': f\"{savings_rate:.1f}%\",\n",
    "    'Avg Monthly Expense': f\"₹{monthly_expenses.mean():,.2f}\",\n",
    "    'Forecast Next Month': f\"₹{final_forecast['yhat'].iloc[-1]:,.2f}\"\n",
    "}\n",
    "\n",
    "print(\"FINANCIAL SUMMARY\")\n",
    "print(\"=================\")\n",
    "for metric, value in summary_metrics.items():\n",
    "    print(f\"{metric}: {value}\")"
   ]
  },
  {
   "cell_type": "markdown",
   "id": "9459f2dc-6813-4fce-a2b5-b14023872190",
   "metadata": {},
   "source": [
    "#### Personalized Recommendations\n",
    "\n",
    "Based on the financial analysis, here are recommendations:\n",
    "\n",
    "1. \"Protect Your Exceptional Savings Rate: Your savings rate of 35.7% is outstanding and is the cornerstone of your financial health. The primary goal should be to maintain this rate, not just increase it. Guard against lifestyle inflation that could erode this key strength.\"\n",
    "\n",
    "2. \"Investigate the Forecasted Spending Increase: Your forecast for next month (₹50,851) is 17% higher than your average. This is your immediate action item:\n",
    "\n",
    "* If Planned: This is a perfect use of your savings. Ensure the funds are allocated from your savings account to avoid disrupting your cash flow.\n",
    "\n",
    "* If Unplanned: Scrutinize your recent transactions in the Food and Apparel categories (typically the most common drivers of unplanned spending increases) to identify and curb any new spending habits before they become permanent.\"\n",
    "\n",
    "3. \"Formalize Your Investment Strategy: With over ₹10.8 Lakhs in net savings, simply holding cash is a missed opportunity. We recommend:\n",
    "\n",
    "* Emergency Fund: Ensure ₹2.5-5 Lakhs (6-12 months of expenses) is parked in a liquid fund or high-yield savings account.\n",
    "\n",
    "* Goal Allocation: Define clear goals (e.g., retirement, down payment) and intentionally invest the remaining savings accordingly. Your existing investments in equity funds are a good start; consider consolidating to a few top-performing funds and setting up automatic monthly investments (SIPs) to continue building wealth systematically.\"\n",
    "\n",
    "4. \"Conduct a 'Subscription Audit': Review recurring payments in your subscription subcategory. Small monthly fees for unused apps or services can add up to a significant annual expense. Canceling even one or two can effortlessly boost your savings.\""
   ]
  },
  {
   "cell_type": "code",
   "execution_count": null,
   "id": "ba986130-4314-4f23-96f2-88fcb3a586e7",
   "metadata": {},
   "outputs": [],
   "source": []
  }
 ],
 "metadata": {
  "kernelspec": {
   "display_name": "Python 3 (ipykernel)",
   "language": "python",
   "name": "python3"
  },
  "language_info": {
   "codemirror_mode": {
    "name": "ipython",
    "version": 3
   },
   "file_extension": ".py",
   "mimetype": "text/x-python",
   "name": "python",
   "nbconvert_exporter": "python",
   "pygments_lexer": "ipython3",
   "version": "3.12.7"
  }
 },
 "nbformat": 4,
 "nbformat_minor": 5
}
